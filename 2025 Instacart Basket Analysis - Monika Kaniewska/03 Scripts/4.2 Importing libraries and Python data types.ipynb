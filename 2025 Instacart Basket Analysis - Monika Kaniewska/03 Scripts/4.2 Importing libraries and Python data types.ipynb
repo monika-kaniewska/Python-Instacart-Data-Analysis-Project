{
 "cells": [
  {
   "cell_type": "markdown",
   "id": "063cc9a6-a942-4f03-a218-eac88d46fd75",
   "metadata": {},
   "source": [
    "# 01. Importing libraries"
   ]
  },
  {
   "cell_type": "code",
   "execution_count": null,
   "id": "c7e42e21-c795-44db-83c4-66025a6a9cb7",
   "metadata": {},
   "outputs": [],
   "source": [
    "# Import libraries"
   ]
  },
  {
   "cell_type": "code",
   "execution_count": 1,
   "id": "32fd9356-120a-43b7-9978-3528bfd568e4",
   "metadata": {},
   "outputs": [],
   "source": [
    "import pandas as pd\n",
    "import numpy as np\n",
    "import os"
   ]
  },
  {
   "cell_type": "markdown",
   "id": "9333d357-cff4-4e80-9f9d-8f99af35e312",
   "metadata": {},
   "source": [
    "# 02. Data types"
   ]
  },
  {
   "cell_type": "code",
   "execution_count": 37,
   "id": "ba93989d-7896-44d6-92ed-3727f9716b17",
   "metadata": {},
   "outputs": [],
   "source": [
    "# 3 different ways of reaching a result of 100"
   ]
  },
  {
   "cell_type": "code",
   "execution_count": 18,
   "id": "671e1b99-b7db-4431-be62-19777b948a24",
   "metadata": {},
   "outputs": [],
   "source": [
    "x = 60"
   ]
  },
  {
   "cell_type": "code",
   "execution_count": 19,
   "id": "c4a9664f-c636-42a1-8149-d7fbaa2eb1a9",
   "metadata": {},
   "outputs": [],
   "source": [
    "y = 40"
   ]
  },
  {
   "cell_type": "code",
   "execution_count": 20,
   "id": "37beaf87-2e68-4173-a318-d8b0b1e999cc",
   "metadata": {},
   "outputs": [
    {
     "data": {
      "text/plain": [
       "100"
      ]
     },
     "execution_count": 20,
     "metadata": {},
     "output_type": "execute_result"
    }
   ],
   "source": [
    "x + y "
   ]
  },
  {
   "cell_type": "code",
   "execution_count": 21,
   "id": "6ced4b0a-6f5b-4815-864e-ed68addd24ca",
   "metadata": {},
   "outputs": [],
   "source": [
    "z = 140"
   ]
  },
  {
   "cell_type": "code",
   "execution_count": 22,
   "id": "1a7ee30d-8a2e-4972-92f4-8b122046ba93",
   "metadata": {},
   "outputs": [
    {
     "data": {
      "text/plain": [
       "100"
      ]
     },
     "execution_count": 22,
     "metadata": {},
     "output_type": "execute_result"
    }
   ],
   "source": [
    "z - y"
   ]
  },
  {
   "cell_type": "code",
   "execution_count": 23,
   "id": "0055818e-7e55-477f-b1a3-07c60c59e1bb",
   "metadata": {},
   "outputs": [],
   "source": [
    "w = 20"
   ]
  },
  {
   "cell_type": "code",
   "execution_count": 24,
   "id": "7d61a744-e34e-4f84-9ca0-5542b15b4fc2",
   "metadata": {},
   "outputs": [
    {
     "data": {
      "text/plain": [
       "100"
      ]
     },
     "execution_count": 24,
     "metadata": {},
     "output_type": "execute_result"
    }
   ],
   "source": [
    "x+x-w"
   ]
  },
  {
   "cell_type": "code",
   "execution_count": 51,
   "id": "01e247aa-36a8-4378-bed5-10b45051d882",
   "metadata": {},
   "outputs": [],
   "source": [
    "# Code 2 floating-point variables and divide them by each other."
   ]
  },
  {
   "cell_type": "code",
   "execution_count": 52,
   "id": "79319c56-e850-4182-9e6d-6ef3686504a5",
   "metadata": {},
   "outputs": [],
   "source": [
    "a = 2.456"
   ]
  },
  {
   "cell_type": "code",
   "execution_count": 53,
   "id": "0eedb494-a036-4317-8a9f-739b623475d8",
   "metadata": {},
   "outputs": [],
   "source": [
    "b = 3.543"
   ]
  },
  {
   "cell_type": "code",
   "execution_count": 54,
   "id": "3c436af4-5a87-4c0b-9e15-9cfedb9f6f00",
   "metadata": {},
   "outputs": [
    {
     "data": {
      "text/plain": [
       "0.6931978549252046"
      ]
     },
     "execution_count": 54,
     "metadata": {},
     "output_type": "execute_result"
    }
   ],
   "source": [
    "a/b"
   ]
  },
  {
   "cell_type": "code",
   "execution_count": 55,
   "id": "08f96228-cc61-4668-b625-6a81229be10d",
   "metadata": {},
   "outputs": [
    {
     "data": {
      "text/plain": [
       "1.4425895765472314"
      ]
     },
     "execution_count": 55,
     "metadata": {},
     "output_type": "execute_result"
    }
   ],
   "source": [
    "b/a"
   ]
  },
  {
   "cell_type": "code",
   "execution_count": 64,
   "id": "c60e909e-23d4-4371-a83c-2d393adb9f2c",
   "metadata": {},
   "outputs": [],
   "source": [
    "# Construct a short word made of separate strings "
   ]
  },
  {
   "cell_type": "code",
   "execution_count": 56,
   "id": "bdd518e2-68bd-4a12-815f-7d7e14a7f952",
   "metadata": {},
   "outputs": [],
   "source": [
    "q = 'b'"
   ]
  },
  {
   "cell_type": "code",
   "execution_count": 57,
   "id": "c1d370c8-6c38-4f2c-9670-78c97a9cf0ae",
   "metadata": {},
   "outputs": [],
   "source": [
    "e = 'e'"
   ]
  },
  {
   "cell_type": "code",
   "execution_count": 61,
   "id": "235d7dbf-ea80-43aa-8c5a-c500a60149b8",
   "metadata": {},
   "outputs": [],
   "source": [
    "y = 'y'"
   ]
  },
  {
   "cell_type": "code",
   "execution_count": 62,
   "id": "1058ce09-6034-4217-9551-7a75345b4557",
   "metadata": {},
   "outputs": [
    {
     "data": {
      "text/plain": [
       "'bye'"
      ]
     },
     "execution_count": 62,
     "metadata": {},
     "output_type": "execute_result"
    }
   ],
   "source": [
    "q+y+e"
   ]
  },
  {
   "cell_type": "code",
   "execution_count": 63,
   "id": "3e777319-18a0-4d28-834e-ce5b01dbae95",
   "metadata": {},
   "outputs": [],
   "source": [
    "#Construct 2 short sentences made of separate strings"
   ]
  },
  {
   "cell_type": "code",
   "execution_count": 4,
   "id": "ca999654-6aa1-4c32-b72a-732f9a9b6bef",
   "metadata": {},
   "outputs": [],
   "source": [
    "a = 'Anna '"
   ]
  },
  {
   "cell_type": "code",
   "execution_count": 5,
   "id": "ad20445a-7ea4-4b03-913d-5f28fd33c2e6",
   "metadata": {},
   "outputs": [],
   "source": [
    "b = 'likes '"
   ]
  },
  {
   "cell_type": "code",
   "execution_count": 6,
   "id": "3b19b203-f1ba-4c33-92ef-8919dce789ef",
   "metadata": {},
   "outputs": [],
   "source": [
    "c = 'cats'"
   ]
  },
  {
   "cell_type": "code",
   "execution_count": 8,
   "id": "f7134153-d1e2-400e-a7a9-b3923d8ba8c7",
   "metadata": {},
   "outputs": [],
   "source": [
    "e = 'dogs'"
   ]
  },
  {
   "cell_type": "code",
   "execution_count": 9,
   "id": "28d79e21-b524-40ca-af3c-b2544d10b431",
   "metadata": {},
   "outputs": [],
   "source": [
    "f = 'does not like '"
   ]
  },
  {
   "cell_type": "code",
   "execution_count": 10,
   "id": "f765814c-c906-4bc1-89fe-22f454e6e1e8",
   "metadata": {},
   "outputs": [],
   "source": [
    "r = 'not '"
   ]
  },
  {
   "cell_type": "code",
   "execution_count": 11,
   "id": "c5e81409-5e30-4fb2-a657-f4298571ee90",
   "metadata": {},
   "outputs": [],
   "source": [
    "g = 'like '"
   ]
  },
  {
   "cell_type": "code",
   "execution_count": 12,
   "id": "b30a2c75-cc73-4251-8ac4-cfb26cea5547",
   "metadata": {},
   "outputs": [
    {
     "data": {
      "text/plain": [
       "'Anna likes cats'"
      ]
     },
     "execution_count": 12,
     "metadata": {},
     "output_type": "execute_result"
    }
   ],
   "source": [
    "a+b+c"
   ]
  },
  {
   "cell_type": "code",
   "execution_count": 13,
   "id": "6efdac72-0d67-4dea-9ddd-a9d796567fa1",
   "metadata": {},
   "outputs": [
    {
     "data": {
      "text/plain": [
       "'Anna does not like dogs'"
      ]
     },
     "execution_count": 13,
     "metadata": {},
     "output_type": "execute_result"
    }
   ],
   "source": [
    "a+ f+e"
   ]
  },
  {
   "cell_type": "code",
   "execution_count": 14,
   "id": "9c865eae-ae4d-4320-94df-eaec70007c9b",
   "metadata": {},
   "outputs": [],
   "source": [
    "# command that makes a string appear 100 times"
   ]
  },
  {
   "cell_type": "code",
   "execution_count": 15,
   "id": "811cd392-1db2-470c-b1fc-42267dfe5faa",
   "metadata": {},
   "outputs": [],
   "source": [
    "a = 'Anna does not like dogs'"
   ]
  },
  {
   "cell_type": "code",
   "execution_count": 16,
   "id": "1c8da60a-c3ad-49aa-8524-8692344ce099",
   "metadata": {},
   "outputs": [
    {
     "data": {
      "text/plain": [
       "'Anna does not like dogsAnna does not like dogsAnna does not like dogsAnna does not like dogsAnna does not like dogsAnna does not like dogsAnna does not like dogsAnna does not like dogsAnna does not like dogsAnna does not like dogsAnna does not like dogsAnna does not like dogsAnna does not like dogsAnna does not like dogsAnna does not like dogsAnna does not like dogsAnna does not like dogsAnna does not like dogsAnna does not like dogsAnna does not like dogsAnna does not like dogsAnna does not like dogsAnna does not like dogsAnna does not like dogsAnna does not like dogsAnna does not like dogsAnna does not like dogsAnna does not like dogsAnna does not like dogsAnna does not like dogsAnna does not like dogsAnna does not like dogsAnna does not like dogsAnna does not like dogsAnna does not like dogsAnna does not like dogsAnna does not like dogsAnna does not like dogsAnna does not like dogsAnna does not like dogsAnna does not like dogsAnna does not like dogsAnna does not like dogsAnna does not like dogsAnna does not like dogsAnna does not like dogsAnna does not like dogsAnna does not like dogsAnna does not like dogsAnna does not like dogsAnna does not like dogsAnna does not like dogsAnna does not like dogsAnna does not like dogsAnna does not like dogsAnna does not like dogsAnna does not like dogsAnna does not like dogsAnna does not like dogsAnna does not like dogsAnna does not like dogsAnna does not like dogsAnna does not like dogsAnna does not like dogsAnna does not like dogsAnna does not like dogsAnna does not like dogsAnna does not like dogsAnna does not like dogsAnna does not like dogsAnna does not like dogsAnna does not like dogsAnna does not like dogsAnna does not like dogsAnna does not like dogsAnna does not like dogsAnna does not like dogsAnna does not like dogsAnna does not like dogsAnna does not like dogsAnna does not like dogsAnna does not like dogsAnna does not like dogsAnna does not like dogsAnna does not like dogsAnna does not like dogsAnna does not like dogsAnna does not like dogsAnna does not like dogsAnna does not like dogsAnna does not like dogsAnna does not like dogsAnna does not like dogsAnna does not like dogsAnna does not like dogsAnna does not like dogsAnna does not like dogsAnna does not like dogsAnna does not like dogsAnna does not like dogs'"
      ]
     },
     "execution_count": 16,
     "metadata": {},
     "output_type": "execute_result"
    }
   ],
   "source": [
    "a*100"
   ]
  },
  {
   "cell_type": "code",
   "execution_count": null,
   "id": "16d83aeb-d555-4767-806e-f38f15791cbf",
   "metadata": {},
   "outputs": [],
   "source": []
  }
 ],
 "metadata": {
  "kernelspec": {
   "display_name": "Python [conda env:base] *",
   "language": "python",
   "name": "conda-base-py"
  },
  "language_info": {
   "codemirror_mode": {
    "name": "ipython",
    "version": 3
   },
   "file_extension": ".py",
   "mimetype": "text/x-python",
   "name": "python",
   "nbconvert_exporter": "python",
   "pygments_lexer": "ipython3",
   "version": "3.13.5"
  }
 },
 "nbformat": 4,
 "nbformat_minor": 5
}
